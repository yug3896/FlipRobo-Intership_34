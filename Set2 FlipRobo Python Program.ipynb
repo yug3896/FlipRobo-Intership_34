{
 "cells": [
  {
   "cell_type": "markdown",
   "id": "ce8b6739",
   "metadata": {},
   "source": [
    "## 14.\tWrite a python program to solve a quadratic equation of the form ax^2+bx+c=0. Where a, b and c are to be taken by user input. Handle the erroneous input, such as ‘a’ should not be equal to 0."
   ]
  },
  {
   "cell_type": "code",
   "execution_count": 1,
   "id": "acff67d6",
   "metadata": {},
   "outputs": [
    {
     "name": "stdout",
     "output_type": "stream",
     "text": [
      "Enter the value of a (should not be zero): 5\n",
      "Enter the value of b: 21\n",
      "Enter the value of c: 5\n",
      "The roots are -0.2533814687380612 and -3.946618531261939\n"
     ]
    }
   ],
   "source": [
    "import math\n",
    "\n",
    "# get input values of a, b, and c\n",
    "a = float(input(\"Enter the value of a (should not be zero): \"))\n",
    "if a == 0:\n",
    "    print(\"a should not be zero\")\n",
    "    exit()\n",
    "b = float(input(\"Enter the value of b: \"))\n",
    "c = float(input(\"Enter the value of c: \"))\n",
    "\n",
    "# calculate discriminant\n",
    "discriminant = b**2 - 4*a*c\n",
    "\n",
    "# check if discriminant is positive, zero, or negative\n",
    "if discriminant > 0:\n",
    "    # two real and distinct roots\n",
    "    x1 = (-b + math.sqrt(discriminant)) / (2*a)\n",
    "    x2 = (-b - math.sqrt(discriminant)) / (2*a)\n",
    "    print(\"The roots are\", x1, \"and\", x2)\n",
    "elif discriminant == 0:\n",
    "    # one real and repeated root\n",
    "    x = -b / (2*a)\n",
    "    print(\"The root is\", x)\n",
    "else:\n",
    "    # two complex conjugate roots\n",
    "    real_part = -b / (2*a)\n",
    "    imag_part = math.sqrt(-discriminant) / (2*a)\n",
    "    print(\"The roots are\", real_part, \"+\", imag_part, \"i and\", real_part, \"-\", imag_part, \"i\")"
   ]
  },
  {
   "cell_type": "markdown",
   "id": "23b1cfb9",
   "metadata": {},
   "source": [
    "## 15 Write a python program to find the sum of first ‘n’ natural numbers without using any loop. Ask users to input the value of ‘n’"
   ]
  },
  {
   "cell_type": "code",
   "execution_count": 2,
   "id": "1fff1047",
   "metadata": {},
   "outputs": [
    {
     "name": "stdout",
     "output_type": "stream",
     "text": [
      "Enter a positive integer n: 20\n",
      "The sum of the first 20 natural numbers is 210\n"
     ]
    }
   ],
   "source": [
    "n = int(input(\"Enter a positive integer n: \"))\n",
    "if n < 1:\n",
    "    print(\"n should be a positive integer\")\n",
    "    exit()\n",
    "\n",
    "sum = (n * (n + 1)) // 2\n",
    "print(\"The sum of the first\", n, \"natural numbers is\", sum)"
   ]
  },
  {
   "cell_type": "code",
   "execution_count": null,
   "id": "1f7d7029",
   "metadata": {},
   "outputs": [],
   "source": []
  }
 ],
 "metadata": {
  "kernelspec": {
   "display_name": "Python 3 (ipykernel)",
   "language": "python",
   "name": "python3"
  },
  "language_info": {
   "codemirror_mode": {
    "name": "ipython",
    "version": 3
   },
   "file_extension": ".py",
   "mimetype": "text/x-python",
   "name": "python",
   "nbconvert_exporter": "python",
   "pygments_lexer": "ipython3",
   "version": "3.9.13"
  }
 },
 "nbformat": 4,
 "nbformat_minor": 5
}
