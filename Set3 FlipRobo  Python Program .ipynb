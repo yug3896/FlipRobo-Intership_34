{
 "cells": [
  {
   "cell_type": "markdown",
   "id": "218c1c29",
   "metadata": {},
   "source": [
    " ## 11.\tWrite a python function print pyramid of stars. Level of the pyramid should be taken as an input from the user. E.g."
   ]
  },
  {
   "cell_type": "code",
   "execution_count": 1,
   "id": "8891ff11",
   "metadata": {},
   "outputs": [
    {
     "name": "stdout",
     "output_type": "stream",
     "text": [
      "    *\n",
      "   ***\n",
      "  *****\n",
      " *******\n",
      "*********\n"
     ]
    }
   ],
   "source": [
    "def print_pyramid(levels):\n",
    "    for i in range(1, levels + 1):\n",
    "        print(' ' * (levels - i) + '*' * (2 * i - 1))\n",
    "\n",
    "# Example usage:\n",
    "print_pyramid(5)"
   ]
  },
  {
   "cell_type": "markdown",
   "id": "3e28f69a",
   "metadata": {},
   "source": [
    "## 12.\tWrite a python function print Hourglass pattern"
   ]
  },
  {
   "cell_type": "code",
   "execution_count": 3,
   "id": "700f260e",
   "metadata": {},
   "outputs": [
    {
     "name": "stdout",
     "output_type": "stream",
     "text": [
      "*********\n",
      " *******\n",
      "  *****\n",
      "   ***\n",
      "    *\n",
      "   ***\n",
      "  *****\n",
      " *******\n",
      "*********\n"
     ]
    }
   ],
   "source": [
    "def print_hourglass(levels):\n",
    "    for i in range(levels, 0, -1):\n",
    "        print(' ' * (levels - i) + '*' * (2 * i - 1))\n",
    "    for i in range(2, levels + 1):\n",
    "        print(' ' * (levels - i) + '*' * (2 * i - 1))\n",
    "\n",
    "# Example usage:\n",
    "print_hourglass(5)"
   ]
  },
  {
   "cell_type": "markdown",
   "id": "ed7ec0cd",
   "metadata": {},
   "source": [
    "## 13.\tWrite a python function to print Pascal’s Triangle. The number of levels in the triangle must be taken as input by the user"
   ]
  },
  {
   "cell_type": "code",
   "execution_count": 4,
   "id": "e8b4f2db",
   "metadata": {},
   "outputs": [
    {
     "name": "stdout",
     "output_type": "stream",
     "text": [
      "    1     \n",
      "   1 1    \n",
      "  1 2 1   \n",
      " 1 3 3 1  \n",
      "1 4 6 4 1 \n"
     ]
    }
   ],
   "source": [
    "def pascals_triangle(levels):\n",
    "    triangle = [[1]]\n",
    "    for i in range(1, levels):\n",
    "        row = [1]\n",
    "        for j in range(1, i):\n",
    "            row.append(triangle[i-1][j-1] + triangle[i-1][j])\n",
    "        row.append(1)\n",
    "        triangle.append(row)\n",
    "    for row in triangle:\n",
    "        print(' '.join(str(num) for num in row).center(levels*2))\n",
    "        \n",
    "pascals_triangle(5)        "
   ]
  },
  {
   "cell_type": "code",
   "execution_count": null,
   "id": "f6e285b9",
   "metadata": {},
   "outputs": [],
   "source": []
  },
  {
   "cell_type": "markdown",
   "id": "1b9f29cc",
   "metadata": {},
   "source": [
    "## 14 Write a python function to print Diamond Shaped Pattern shown below. Function must take integer input which represents the number of stars in the middle most line"
   ]
  },
  {
   "cell_type": "code",
   "execution_count": 5,
   "id": "0816c9e9",
   "metadata": {},
   "outputs": [
    {
     "name": "stdout",
     "output_type": "stream",
     "text": [
      "    *\n",
      "   ***\n",
      "  *****\n",
      " *******\n",
      "*********\n",
      " *******\n",
      "  *****\n",
      "   ***\n",
      "    *\n"
     ]
    }
   ],
   "source": [
    "def print_diamond(n):\n",
    "    # Upper half of diamond\n",
    "    for i in range(1, n+1):\n",
    "        # Print spaces\n",
    "        for j in range(n-i):\n",
    "            print(\" \", end=\"\")\n",
    "        # Print stars\n",
    "        for j in range(2*i-1):\n",
    "            print(\"*\", end=\"\")\n",
    "        print()\n",
    "\n",
    "    # Lower half of diamond\n",
    "    for i in range(n-1, 0, -1):\n",
    "        # Print spaces\n",
    "        for j in range(n-i):\n",
    "            print(\" \", end=\"\")\n",
    "        # Print stars\n",
    "        for j in range(2*i-1):\n",
    "            print(\"*\", end=\"\")\n",
    "        print()\n",
    "print_diamond(5)        "
   ]
  },
  {
   "cell_type": "markdown",
   "id": "b69e0215",
   "metadata": {},
   "source": [
    "## 15.\tWrite a python function to print Diamond Shaped Character Pattern shown below. Function must take integer input within range 1 to 26, which represents the rank of the alphabet"
   ]
  },
  {
   "cell_type": "code",
   "execution_count": 9,
   "id": "c361a94c",
   "metadata": {},
   "outputs": [
    {
     "name": "stdout",
     "output_type": "stream",
     "text": [
      "         A\n",
      "        BBB\n",
      "       CCCCC\n",
      "      DDDDDDD\n",
      "     EEEEEEEEE\n",
      "    FFFFFFFFFFF\n",
      "   GGGGGGGGGGGGG\n",
      "  HHHHHHHHHHHHHHH\n",
      " IIIIIIIIIIIIIIIII\n",
      "JJJJJJJJJJJJJJJJJJJ\n",
      " IIIIIIIIIIIIIIIII\n",
      "  HHHHHHHHHHHHHHH\n",
      "   GGGGGGGGGGGGG\n",
      "    FFFFFFFFFFF\n",
      "     EEEEEEEEE\n",
      "      DDDDDDD\n",
      "       CCCCC\n",
      "        BBB\n",
      "         A\n"
     ]
    }
   ],
   "source": [
    "def print_diamond(rank):\n",
    "    if rank < 1 or rank > 26:\n",
    "        print(\"Rank should be within 1 to 26\")\n",
    "        return\n",
    "    char = chr(ord('A') + rank - 1)  # get the character corresponding to the rank\n",
    "    n = 2 * rank - 1  # number of rows in the diamond\n",
    "    # upper half of diamond\n",
    "    for i in range(1, rank+1):\n",
    "        # print spaces\n",
    "        print(' '*(rank-i), end='')\n",
    "        # print characters\n",
    "        print((chr(ord(char)-(rank-i)))*(2*i-1))\n",
    "    # lower half of diamond\n",
    "    for i in range(rank-1, 0, -1):\n",
    "        # print spaces\n",
    "        print(' '*(rank-i), end='')\n",
    "        # print characters\n",
    "        print((chr(ord(char)-(rank-i)))*(2*i-1))\n",
    "        \n",
    "print_diamond(10)        "
   ]
  },
  {
   "cell_type": "code",
   "execution_count": null,
   "id": "a99b8fc0",
   "metadata": {},
   "outputs": [],
   "source": []
  }
 ],
 "metadata": {
  "kernelspec": {
   "display_name": "Python 3 (ipykernel)",
   "language": "python",
   "name": "python3"
  },
  "language_info": {
   "codemirror_mode": {
    "name": "ipython",
    "version": 3
   },
   "file_extension": ".py",
   "mimetype": "text/x-python",
   "name": "python",
   "nbconvert_exporter": "python",
   "pygments_lexer": "ipython3",
   "version": "3.9.13"
  }
 },
 "nbformat": 4,
 "nbformat_minor": 5
}
