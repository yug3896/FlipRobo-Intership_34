{
 "cells": [
  {
   "cell_type": "markdown",
   "id": "727b0ef5",
   "metadata": {},
   "source": [
    "## Write a python program to find the factorial of a number."
   ]
  },
  {
   "cell_type": "code",
   "execution_count": 9,
   "id": "7a3222b2",
   "metadata": {},
   "outputs": [
    {
     "name": "stdout",
     "output_type": "stream",
     "text": [
      "Enter a number: 5\n",
      "The factorial of 5 is 120\n"
     ]
    }
   ],
   "source": [
    "num = int(input(\"Enter number\"))\n",
    "\n",
    "factorial = 1\n",
    "\n",
    "if num < 0:\n",
    "    print(\"Sorry, factorial does not exist for negative numbers\")\n",
    "elif num == 0:\n",
    "    print(\"The factorial of 0 is 1\")\n",
    "else:\n",
    "    for i in range(1,num + 1):\n",
    "        factorial = factorial*i\n",
    "    print(\"The factorial of\",num,\"is\",factorial)"
   ]
  },
  {
   "cell_type": "markdown",
   "id": "be78ce6b",
   "metadata": {},
   "source": [
    "## Write a python program to find whether a number is prime or composite."
   ]
  },
  {
   "cell_type": "code",
   "execution_count": 10,
   "id": "226697ff",
   "metadata": {},
   "outputs": [
    {
     "name": "stdout",
     "output_type": "stream",
     "text": [
      "Enter a number: 23\n",
      "23 is prime\n"
     ]
    }
   ],
   "source": [
    "num = int(input(\"Enter a number: \"))\n",
    "\n",
    "if num > 1:\n",
    "    # Check for factors\n",
    "    for i in range(2, num):\n",
    "        if (num % i) == 0:\n",
    "            print(num, \"is composite\")\n",
    "            break\n",
    "    else:\n",
    "        print(num, \"is prime\")\n",
    "else:\n",
    "    print(num, \"is neither prime nor composite\")"
   ]
  },
  {
   "cell_type": "markdown",
   "id": "e63f447b",
   "metadata": {},
   "source": [
    "## Write a python program to check whether a given string is palindrome or not."
   ]
  },
  {
   "cell_type": "code",
   "execution_count": 12,
   "id": "c136d570",
   "metadata": {},
   "outputs": [
    {
     "name": "stdout",
     "output_type": "stream",
     "text": [
      "Enter a string: taT\n",
      "The string is a palindrome\n"
     ]
    }
   ],
   "source": [
    "string = input(\"Enter a string: \")\n",
    "\n",
    "# convert to lowercase or uppercase\n",
    "string = string.lower()\n",
    "## string = string.upper()\n",
    "\n",
    "# Reverse the string using slicing\n",
    "reverse_string = string[::-1]\n",
    "\n",
    "# Check if the string and its reverse are equal\n",
    "if string == reverse_string:\n",
    "    print(\"The string is a palindrome\")\n",
    "else:\n",
    "    print(\"The string is not a palindrome\")"
   ]
  },
  {
   "cell_type": "markdown",
   "id": "b049388e",
   "metadata": {},
   "source": [
    "## Write a Python program to get the third side of right-angled triangle from two given sides"
   ]
  },
  {
   "cell_type": "code",
   "execution_count": 18,
   "id": "f96d34d0",
   "metadata": {},
   "outputs": [
    {
     "name": "stdout",
     "output_type": "stream",
     "text": [
      "Enter the length of the first side: 3\n",
      "Enter the length of the second side: 4\n",
      "The length of the hypotenuse is: 5.0\n"
     ]
    }
   ],
   "source": [
    "# In case hypotenuse is unknown side\n",
    "side1 = float(input(\"Enter the length of the first side: \"))\n",
    "side2 = float(input(\"Enter the length of the second side: \"))\n",
    "\n",
    "# Use the Pythagorean theorem to find the length of the hypotenuse\n",
    "hypotenuse =(side1**2 + side2**2)**0.5\n",
    "\n",
    "# Print the result\n",
    "print(\"The length of the hypotenuse is:\", hypotenuse)"
   ]
  },
  {
   "cell_type": "code",
   "execution_count": 20,
   "id": "682f898c",
   "metadata": {},
   "outputs": [
    {
     "name": "stdout",
     "output_type": "stream",
     "text": [
      "Enter the length of the first side: 4\n",
      "Enter the length of the hypotenuse: 5\n",
      "The length of the side2 is: 3.0\n"
     ]
    }
   ],
   "source": [
    "# In case hypotenuse is given\n",
    "side1 = float(input(\"Enter the length of the first side: \"))\n",
    "hypotenuse = float(input(\"Enter the length of the hypotenuse: \"))\n",
    "\n",
    "# Use the Pythagorean theorem to find the length of the hypotenuse\n",
    "side2 =(hypotenuse**2 - side1**2)**0.5\n",
    "\n",
    "# Print the result\n",
    "print(\"The length of the side2 is:\", side2)"
   ]
  },
  {
   "cell_type": "markdown",
   "id": "9c8a8fb5",
   "metadata": {},
   "source": [
    "## Write a python program to print the frequency of each of the characters present in a given string"
   ]
  },
  {
   "cell_type": "code",
   "execution_count": 22,
   "id": "63e79693",
   "metadata": {},
   "outputs": [
    {
     "name": "stdout",
     "output_type": "stream",
     "text": [
      "Enter a string: lfjkjojgcradf\n",
      "Count of all characters :\n",
      " {'l': 1, 'f': 2, 'j': 3, 'k': 1, 'o': 1, 'g': 1, 'c': 1, 'r': 1, 'a': 1, 'd': 1}\n"
     ]
    }
   ],
   "source": [
    "string = input(\"Enter a string: \")\n",
    "\n",
    "# Create an empty dictionary to store the frequency of each character\n",
    "frequency = {}\n",
    "\n",
    "# Iterate over each character in the string\n",
    "for char in string:\n",
    "    # If the character is already in the dictionary, increment its count by 1\n",
    "    if char in frequency:\n",
    "        frequency[char] += 1\n",
    "    # Otherwise, add the character to the dictionary with a count of 1\n",
    "    else:\n",
    "        frequency[char] = 1\n",
    "print(\"Count of all characters :\\n \"\n",
    "      + str(frequency))        "
   ]
  },
  {
   "cell_type": "code",
   "execution_count": null,
   "id": "b6b9b463",
   "metadata": {},
   "outputs": [],
   "source": []
  }
 ],
 "metadata": {
  "kernelspec": {
   "display_name": "Python 3 (ipykernel)",
   "language": "python",
   "name": "python3"
  },
  "language_info": {
   "codemirror_mode": {
    "name": "ipython",
    "version": 3
   },
   "file_extension": ".py",
   "mimetype": "text/x-python",
   "name": "python",
   "nbconvert_exporter": "python",
   "pygments_lexer": "ipython3",
   "version": "3.9.13"
  }
 },
 "nbformat": 4,
 "nbformat_minor": 5
}
